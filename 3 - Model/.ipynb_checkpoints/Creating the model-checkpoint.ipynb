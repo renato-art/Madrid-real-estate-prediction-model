{
 "cells": [
  {
   "cell_type": "markdown",
   "id": "b1bf23b1",
   "metadata": {},
   "source": [
    "# Creating the model\n",
    "### Importing the libraries"
   ]
  },
  {
   "cell_type": "code",
   "execution_count": 1,
   "id": "3be3c9a4",
   "metadata": {},
   "outputs": [],
   "source": [
    "import pandas as pd\n",
    "import numpy as np\n",
    "from sklearn import ensemble\n",
    "from sklearn.metrics import mean_absolute_error, zero\n",
    "from sklearn.model_selection import train_test_split\n",
    "from sklearn.svm import SVC\n",
    "import joblib"
   ]
  },
  {
   "cell_type": "markdown",
   "id": "80665325",
   "metadata": {},
   "source": [
    "### Loading the data"
   ]
  },
  {
   "cell_type": "code",
   "execution_count": 2,
   "id": "f8813e84",
   "metadata": {},
   "outputs": [],
   "source": [
    "data = pd.read_csv('../2 - Processed data/data.csv')"
   ]
  },
  {
   "cell_type": "code",
   "execution_count": 3,
   "id": "39cecb29",
   "metadata": {},
   "outputs": [
    {
     "data": {
      "text/html": [
       "<div>\n",
       "<style scoped>\n",
       "    .dataframe tbody tr th:only-of-type {\n",
       "        vertical-align: middle;\n",
       "    }\n",
       "\n",
       "    .dataframe tbody tr th {\n",
       "        vertical-align: top;\n",
       "    }\n",
       "\n",
       "    .dataframe thead th {\n",
       "        text-align: right;\n",
       "    }\n",
       "</style>\n",
       "<table border=\"1\" class=\"dataframe\">\n",
       "  <thead>\n",
       "    <tr style=\"text-align: right;\">\n",
       "      <th></th>\n",
       "      <th>Unnamed: 0</th>\n",
       "      <th>sq_mt_built</th>\n",
       "      <th>n_rooms</th>\n",
       "      <th>n_bathrooms</th>\n",
       "      <th>n_floors</th>\n",
       "      <th>buy_price</th>\n",
       "      <th>is_renewal_needed</th>\n",
       "      <th>is_new_development</th>\n",
       "      <th>house_type_id_HouseType 1: Pisos</th>\n",
       "      <th>house_type_id_HouseType 2: Casa o chalet</th>\n",
       "      <th>house_type_id_HouseType 4: Dúplex</th>\n",
       "      <th>house_type_id_HouseType 5: Áticos</th>\n",
       "    </tr>\n",
       "  </thead>\n",
       "  <tbody>\n",
       "    <tr>\n",
       "      <th>20608</th>\n",
       "      <td>21737</td>\n",
       "      <td>78.0</td>\n",
       "      <td>2</td>\n",
       "      <td>2.0</td>\n",
       "      <td>1.0</td>\n",
       "      <td>350000</td>\n",
       "      <td>False</td>\n",
       "      <td>False</td>\n",
       "      <td>0</td>\n",
       "      <td>0</td>\n",
       "      <td>0</td>\n",
       "      <td>1</td>\n",
       "    </tr>\n",
       "    <tr>\n",
       "      <th>20609</th>\n",
       "      <td>21738</td>\n",
       "      <td>96.0</td>\n",
       "      <td>2</td>\n",
       "      <td>2.0</td>\n",
       "      <td>1.0</td>\n",
       "      <td>425000</td>\n",
       "      <td>False</td>\n",
       "      <td>False</td>\n",
       "      <td>1</td>\n",
       "      <td>0</td>\n",
       "      <td>0</td>\n",
       "      <td>0</td>\n",
       "    </tr>\n",
       "    <tr>\n",
       "      <th>20610</th>\n",
       "      <td>21739</td>\n",
       "      <td>175.0</td>\n",
       "      <td>4</td>\n",
       "      <td>2.0</td>\n",
       "      <td>1.0</td>\n",
       "      <td>680000</td>\n",
       "      <td>False</td>\n",
       "      <td>False</td>\n",
       "      <td>1</td>\n",
       "      <td>0</td>\n",
       "      <td>0</td>\n",
       "      <td>0</td>\n",
       "    </tr>\n",
       "    <tr>\n",
       "      <th>20611</th>\n",
       "      <td>21740</td>\n",
       "      <td>289.0</td>\n",
       "      <td>4</td>\n",
       "      <td>3.0</td>\n",
       "      <td>3.0</td>\n",
       "      <td>695000</td>\n",
       "      <td>False</td>\n",
       "      <td>False</td>\n",
       "      <td>0</td>\n",
       "      <td>1</td>\n",
       "      <td>0</td>\n",
       "      <td>0</td>\n",
       "    </tr>\n",
       "    <tr>\n",
       "      <th>20612</th>\n",
       "      <td>21741</td>\n",
       "      <td>72.0</td>\n",
       "      <td>2</td>\n",
       "      <td>2.0</td>\n",
       "      <td>1.0</td>\n",
       "      <td>424000</td>\n",
       "      <td>False</td>\n",
       "      <td>True</td>\n",
       "      <td>1</td>\n",
       "      <td>0</td>\n",
       "      <td>0</td>\n",
       "      <td>0</td>\n",
       "    </tr>\n",
       "  </tbody>\n",
       "</table>\n",
       "</div>"
      ],
      "text/plain": [
       "       Unnamed: 0  sq_mt_built  n_rooms  n_bathrooms  n_floors  buy_price  \\\n",
       "20608       21737         78.0        2          2.0       1.0     350000   \n",
       "20609       21738         96.0        2          2.0       1.0     425000   \n",
       "20610       21739        175.0        4          2.0       1.0     680000   \n",
       "20611       21740        289.0        4          3.0       3.0     695000   \n",
       "20612       21741         72.0        2          2.0       1.0     424000   \n",
       "\n",
       "       is_renewal_needed  is_new_development  \\\n",
       "20608              False               False   \n",
       "20609              False               False   \n",
       "20610              False               False   \n",
       "20611              False               False   \n",
       "20612              False                True   \n",
       "\n",
       "       house_type_id_HouseType 1: Pisos  \\\n",
       "20608                                 0   \n",
       "20609                                 1   \n",
       "20610                                 1   \n",
       "20611                                 0   \n",
       "20612                                 1   \n",
       "\n",
       "       house_type_id_HouseType 2: Casa o chalet  \\\n",
       "20608                                         0   \n",
       "20609                                         0   \n",
       "20610                                         0   \n",
       "20611                                         1   \n",
       "20612                                         0   \n",
       "\n",
       "       house_type_id_HouseType 4: Dúplex  house_type_id_HouseType 5: Áticos  \n",
       "20608                                  0                                  1  \n",
       "20609                                  0                                  0  \n",
       "20610                                  0                                  0  \n",
       "20611                                  0                                  0  \n",
       "20612                                  0                                  0  "
      ]
     },
     "execution_count": 3,
     "metadata": {},
     "output_type": "execute_result"
    }
   ],
   "source": [
    "# Reading the data\n",
    "data.tail()"
   ]
  },
  {
   "cell_type": "markdown",
   "id": "94a2abb2",
   "metadata": {},
   "source": [
    "### Creating the features data set and getting the dependent variable (y)"
   ]
  },
  {
   "cell_type": "code",
   "execution_count": 4,
   "id": "4914dd15",
   "metadata": {},
   "outputs": [],
   "source": [
    "# Copying the main data set into a new data set\n",
    "features_data = data.copy()"
   ]
  },
  {
   "cell_type": "code",
   "execution_count": 5,
   "id": "e5649c99",
   "metadata": {},
   "outputs": [],
   "source": [
    "# Removing the dependent variable and the Unnamed columns\n",
    "del features_data['Unnamed: 0']\n",
    "del features_data['buy_price']"
   ]
  },
  {
   "cell_type": "code",
   "execution_count": 6,
   "id": "49401f4e",
   "metadata": {},
   "outputs": [],
   "source": [
    "# Creating the X and y arrays\n",
    "X = features_data.to_numpy()\n",
    "y = data['buy_price'].to_numpy()"
   ]
  },
  {
   "cell_type": "code",
   "execution_count": 7,
   "id": "c5bff298",
   "metadata": {},
   "outputs": [],
   "source": [
    "'''\n",
    "    Splitting the data set in a training set and a test set.\n",
    "    The test set is formed by 30% of the original set.\n",
    "'''\n",
    "X_train, X_test, y_train, y_test = train_test_split(X, y, test_size = 0.35, random_state = 557)"
   ]
  },
  {
   "cell_type": "markdown",
   "id": "58156804",
   "metadata": {},
   "source": [
    "### Creating and fitting the model"
   ]
  },
  {
   "cell_type": "code",
   "execution_count": 8,
   "id": "0dfcf26f",
   "metadata": {},
   "outputs": [
    {
     "data": {
      "text/plain": [
       "GradientBoostingRegressor(learning_rate=0.8, max_depth=8, min_samples_leaf=10,\n",
       "                          n_estimators=3000)"
      ]
     },
     "execution_count": 8,
     "metadata": {},
     "output_type": "execute_result"
    }
   ],
   "source": [
    "model = ensemble.GradientBoostingRegressor(\n",
    "    n_estimators = 3000,\n",
    "    learning_rate = 0.8,\n",
    "    max_depth = 8,\n",
    "    min_samples_leaf = 10,\n",
    "    loss = 'squared_error'\n",
    ")\n",
    "\n",
    "# Fitting the model\n",
    "model.fit(X_train, y_train)"
   ]
  },
  {
   "cell_type": "code",
   "execution_count": 9,
   "id": "c309439e",
   "metadata": {},
   "outputs": [
    {
     "name": "stdout",
     "output_type": "stream",
     "text": [
      "\n",
      "    The mean absolute error of the test set is: 72482.3532\n",
      "\n"
     ]
    }
   ],
   "source": [
    "# Finding the error rate on the training set\n",
    "error = mean_absolute_error(y_train, model.predict(X_train))\n",
    "print(f'''\n",
    "    The mean absolute error of the test set is: {error:.4f}\n",
    "''')"
   ]
  },
  {
   "cell_type": "code",
   "execution_count": 10,
   "id": "442163d7",
   "metadata": {},
   "outputs": [
    {
     "data": {
      "text/plain": [
       "SVC()"
      ]
     },
     "execution_count": 10,
     "metadata": {},
     "output_type": "execute_result"
    }
   ],
   "source": [
    "# Trying another method\n",
    "model = SVC()\n",
    "\n",
    "# Fitting the model\n",
    "model.fit(X_train, y_train)"
   ]
  },
  {
   "cell_type": "code",
   "execution_count": null,
   "id": "151d5828",
   "metadata": {},
   "outputs": [],
   "source": [
    "# Finding the error rate on the training set\n",
    "error = mean_absolute_error(y_train, model.predict(X_train))\n",
    "print(f'''\n",
    "    The mean absolute error of the test set is: {error:.4f}\n",
    "''')"
   ]
  },
  {
   "cell_type": "code",
   "execution_count": null,
   "id": "132a18f4",
   "metadata": {},
   "outputs": [],
   "source": [
    "y_train"
   ]
  }
 ],
 "metadata": {
  "kernelspec": {
   "display_name": "Python 3 (ipykernel)",
   "language": "python",
   "name": "python3"
  },
  "language_info": {
   "codemirror_mode": {
    "name": "ipython",
    "version": 3
   },
   "file_extension": ".py",
   "mimetype": "text/x-python",
   "name": "python",
   "nbconvert_exporter": "python",
   "pygments_lexer": "ipython3",
   "version": "3.9.5"
  }
 },
 "nbformat": 4,
 "nbformat_minor": 5
}
