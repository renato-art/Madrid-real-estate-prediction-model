{
 "cells": [
  {
   "cell_type": "markdown",
   "id": "a69a9ce2",
   "metadata": {},
   "source": [
    "# Data Processing\n",
    "### Importing the libraries"
   ]
  },
  {
   "cell_type": "code",
   "execution_count": 1,
   "id": "89579348",
   "metadata": {},
   "outputs": [],
   "source": [
    "import pandas as pd\n",
    "import numpy as np"
   ]
  },
  {
   "cell_type": "markdown",
   "id": "edb3a40f",
   "metadata": {},
   "source": [
    "### Loading the data"
   ]
  },
  {
   "cell_type": "code",
   "execution_count": 2,
   "id": "5125998d",
   "metadata": {},
   "outputs": [],
   "source": [
    "data = pd.read_csv('../1 - Original data/houses_Madrid.csv')"
   ]
  },
  {
   "cell_type": "markdown",
   "id": "a89719e9",
   "metadata": {},
   "source": [
    "### Processing the data\n",
    "#### - Deleting unnecessary columns"
   ]
  },
  {
   "cell_type": "code",
   "execution_count": 3,
   "id": "eb884ae6",
   "metadata": {},
   "outputs": [],
   "source": [
    "# Creating a list with the name of the columns that we will delete\n",
    "columns_to_delete: list = ['Unnamed: 0', 'id', 'title', 'subtitle', 'sq_mt_allotment', 'sq_mt_useful', 'latitude', 'longitude', 'raw_address', \n",
    "                           'is_exact_address_hidden', 'street_name', 'street_number', 'portal', 'floor', 'is_floor_under',\n",
    "                           'door', 'neighborhood_id', 'operation', 'rent_price', 'rent_price_by_area', 'is_rent_price_known',\n",
    "                           'buy_price_by_area', 'is_buy_price_known', 'built_year', 'has_central_heating', 'has_individual_heating',\n",
    "                           'are_pets_allowed', 'has_ac', 'has_fitted_wardrobes', 'has_lift', 'is_exterior', \n",
    "                           'has_garden', 'has_pool', 'has_terrace', 'has_balcony', 'has_storage_room', 'is_furnished', \n",
    "                           'is_kitchen_equipped', 'is_accessible', 'has_green_zones', 'energy_certificate', 'has_parking',\n",
    "                           'has_private_parking', 'has_public_parking', 'is_parking_included_in_price', 'parking_price',\n",
    "                           'is_orientation_north', 'is_orientation_west', 'is_orientation_south', 'is_orientation_east']"
   ]
  },
  {
   "cell_type": "code",
   "execution_count": 4,
   "id": "422e86e7",
   "metadata": {},
   "outputs": [],
   "source": [
    "# Using a for loop to delete the columns\n",
    "for column in columns_to_delete:\n",
    "    del data[column]"
   ]
  },
  {
   "cell_type": "code",
   "execution_count": 5,
   "id": "1cd8a2c2",
   "metadata": {},
   "outputs": [
    {
     "data": {
      "text/html": [
       "<div>\n",
       "<style scoped>\n",
       "    .dataframe tbody tr th:only-of-type {\n",
       "        vertical-align: middle;\n",
       "    }\n",
       "\n",
       "    .dataframe tbody tr th {\n",
       "        vertical-align: top;\n",
       "    }\n",
       "\n",
       "    .dataframe thead th {\n",
       "        text-align: right;\n",
       "    }\n",
       "</style>\n",
       "<table border=\"1\" class=\"dataframe\">\n",
       "  <thead>\n",
       "    <tr style=\"text-align: right;\">\n",
       "      <th></th>\n",
       "      <th>sq_mt_built</th>\n",
       "      <th>n_rooms</th>\n",
       "      <th>n_bathrooms</th>\n",
       "      <th>n_floors</th>\n",
       "      <th>buy_price</th>\n",
       "      <th>house_type_id</th>\n",
       "      <th>is_renewal_needed</th>\n",
       "      <th>is_new_development</th>\n",
       "    </tr>\n",
       "  </thead>\n",
       "  <tbody>\n",
       "    <tr>\n",
       "      <th>21737</th>\n",
       "      <td>78.0</td>\n",
       "      <td>2</td>\n",
       "      <td>2.0</td>\n",
       "      <td>NaN</td>\n",
       "      <td>350000</td>\n",
       "      <td>HouseType 5: Áticos</td>\n",
       "      <td>False</td>\n",
       "      <td>False</td>\n",
       "    </tr>\n",
       "    <tr>\n",
       "      <th>21738</th>\n",
       "      <td>96.0</td>\n",
       "      <td>2</td>\n",
       "      <td>2.0</td>\n",
       "      <td>NaN</td>\n",
       "      <td>425000</td>\n",
       "      <td>HouseType 1: Pisos</td>\n",
       "      <td>False</td>\n",
       "      <td>False</td>\n",
       "    </tr>\n",
       "    <tr>\n",
       "      <th>21739</th>\n",
       "      <td>175.0</td>\n",
       "      <td>4</td>\n",
       "      <td>2.0</td>\n",
       "      <td>NaN</td>\n",
       "      <td>680000</td>\n",
       "      <td>HouseType 1: Pisos</td>\n",
       "      <td>False</td>\n",
       "      <td>False</td>\n",
       "    </tr>\n",
       "    <tr>\n",
       "      <th>21740</th>\n",
       "      <td>289.0</td>\n",
       "      <td>4</td>\n",
       "      <td>3.0</td>\n",
       "      <td>3.0</td>\n",
       "      <td>695000</td>\n",
       "      <td>HouseType 2: Casa o chalet</td>\n",
       "      <td>False</td>\n",
       "      <td>False</td>\n",
       "    </tr>\n",
       "    <tr>\n",
       "      <th>21741</th>\n",
       "      <td>72.0</td>\n",
       "      <td>2</td>\n",
       "      <td>2.0</td>\n",
       "      <td>NaN</td>\n",
       "      <td>424000</td>\n",
       "      <td>HouseType 1: Pisos</td>\n",
       "      <td>False</td>\n",
       "      <td>True</td>\n",
       "    </tr>\n",
       "  </tbody>\n",
       "</table>\n",
       "</div>"
      ],
      "text/plain": [
       "       sq_mt_built  n_rooms  n_bathrooms  n_floors  buy_price  \\\n",
       "21737         78.0        2          2.0       NaN     350000   \n",
       "21738         96.0        2          2.0       NaN     425000   \n",
       "21739        175.0        4          2.0       NaN     680000   \n",
       "21740        289.0        4          3.0       3.0     695000   \n",
       "21741         72.0        2          2.0       NaN     424000   \n",
       "\n",
       "                    house_type_id  is_renewal_needed is_new_development  \n",
       "21737         HouseType 5: Áticos              False              False  \n",
       "21738          HouseType 1: Pisos              False              False  \n",
       "21739          HouseType 1: Pisos              False              False  \n",
       "21740  HouseType 2: Casa o chalet              False              False  \n",
       "21741          HouseType 1: Pisos              False               True  "
      ]
     },
     "execution_count": 5,
     "metadata": {},
     "output_type": "execute_result"
    }
   ],
   "source": [
    "# Seeing the new database\n",
    "data.tail()"
   ]
  },
  {
   "cell_type": "markdown",
   "id": "3ae974d7",
   "metadata": {},
   "source": [
    "#### - Dealing with missing data and creating dummies columns"
   ]
  },
  {
   "cell_type": "code",
   "execution_count": 6,
   "id": "7bcfe2de",
   "metadata": {},
   "outputs": [],
   "source": [
    "'''\n",
    "    Treating the missing data in the n_floors column.\n",
    "    We will replace the missing values in the column with the number 1, suggesting that such properties \n",
    "    have only 1 floor. \n",
    "'''\n",
    "data['n_floors'] = data['n_floors'].replace(np.nan, 1)"
   ]
  },
  {
   "cell_type": "code",
   "execution_count": 7,
   "id": "12d39a84",
   "metadata": {},
   "outputs": [],
   "source": [
    "# Creating dummies columns with the house_type_id column\n",
    "data = pd.get_dummies(data, columns = ['house_type_id'])"
   ]
  },
  {
   "cell_type": "code",
   "execution_count": 8,
   "id": "47c165da",
   "metadata": {},
   "outputs": [
    {
     "data": {
      "text/html": [
       "<div>\n",
       "<style scoped>\n",
       "    .dataframe tbody tr th:only-of-type {\n",
       "        vertical-align: middle;\n",
       "    }\n",
       "\n",
       "    .dataframe tbody tr th {\n",
       "        vertical-align: top;\n",
       "    }\n",
       "\n",
       "    .dataframe thead th {\n",
       "        text-align: right;\n",
       "    }\n",
       "</style>\n",
       "<table border=\"1\" class=\"dataframe\">\n",
       "  <thead>\n",
       "    <tr style=\"text-align: right;\">\n",
       "      <th></th>\n",
       "      <th>sq_mt_built</th>\n",
       "      <th>n_rooms</th>\n",
       "      <th>n_bathrooms</th>\n",
       "      <th>n_floors</th>\n",
       "      <th>buy_price</th>\n",
       "      <th>is_renewal_needed</th>\n",
       "      <th>is_new_development</th>\n",
       "      <th>house_type_id_HouseType 1: Pisos</th>\n",
       "      <th>house_type_id_HouseType 2: Casa o chalet</th>\n",
       "      <th>house_type_id_HouseType 4: Dúplex</th>\n",
       "      <th>house_type_id_HouseType 5: Áticos</th>\n",
       "    </tr>\n",
       "  </thead>\n",
       "  <tbody>\n",
       "    <tr>\n",
       "      <th>21737</th>\n",
       "      <td>78.0</td>\n",
       "      <td>2</td>\n",
       "      <td>2.0</td>\n",
       "      <td>1.0</td>\n",
       "      <td>350000</td>\n",
       "      <td>False</td>\n",
       "      <td>False</td>\n",
       "      <td>0</td>\n",
       "      <td>0</td>\n",
       "      <td>0</td>\n",
       "      <td>1</td>\n",
       "    </tr>\n",
       "    <tr>\n",
       "      <th>21738</th>\n",
       "      <td>96.0</td>\n",
       "      <td>2</td>\n",
       "      <td>2.0</td>\n",
       "      <td>1.0</td>\n",
       "      <td>425000</td>\n",
       "      <td>False</td>\n",
       "      <td>False</td>\n",
       "      <td>1</td>\n",
       "      <td>0</td>\n",
       "      <td>0</td>\n",
       "      <td>0</td>\n",
       "    </tr>\n",
       "    <tr>\n",
       "      <th>21739</th>\n",
       "      <td>175.0</td>\n",
       "      <td>4</td>\n",
       "      <td>2.0</td>\n",
       "      <td>1.0</td>\n",
       "      <td>680000</td>\n",
       "      <td>False</td>\n",
       "      <td>False</td>\n",
       "      <td>1</td>\n",
       "      <td>0</td>\n",
       "      <td>0</td>\n",
       "      <td>0</td>\n",
       "    </tr>\n",
       "    <tr>\n",
       "      <th>21740</th>\n",
       "      <td>289.0</td>\n",
       "      <td>4</td>\n",
       "      <td>3.0</td>\n",
       "      <td>3.0</td>\n",
       "      <td>695000</td>\n",
       "      <td>False</td>\n",
       "      <td>False</td>\n",
       "      <td>0</td>\n",
       "      <td>1</td>\n",
       "      <td>0</td>\n",
       "      <td>0</td>\n",
       "    </tr>\n",
       "    <tr>\n",
       "      <th>21741</th>\n",
       "      <td>72.0</td>\n",
       "      <td>2</td>\n",
       "      <td>2.0</td>\n",
       "      <td>1.0</td>\n",
       "      <td>424000</td>\n",
       "      <td>False</td>\n",
       "      <td>True</td>\n",
       "      <td>1</td>\n",
       "      <td>0</td>\n",
       "      <td>0</td>\n",
       "      <td>0</td>\n",
       "    </tr>\n",
       "  </tbody>\n",
       "</table>\n",
       "</div>"
      ],
      "text/plain": [
       "       sq_mt_built  n_rooms  n_bathrooms  n_floors  buy_price  \\\n",
       "21737         78.0        2          2.0       1.0     350000   \n",
       "21738         96.0        2          2.0       1.0     425000   \n",
       "21739        175.0        4          2.0       1.0     680000   \n",
       "21740        289.0        4          3.0       3.0     695000   \n",
       "21741         72.0        2          2.0       1.0     424000   \n",
       "\n",
       "       is_renewal_needed is_new_development  house_type_id_HouseType 1: Pisos  \\\n",
       "21737              False              False                                 0   \n",
       "21738              False              False                                 1   \n",
       "21739              False              False                                 1   \n",
       "21740              False              False                                 0   \n",
       "21741              False               True                                 1   \n",
       "\n",
       "       house_type_id_HouseType 2: Casa o chalet  \\\n",
       "21737                                         0   \n",
       "21738                                         0   \n",
       "21739                                         0   \n",
       "21740                                         1   \n",
       "21741                                         0   \n",
       "\n",
       "       house_type_id_HouseType 4: Dúplex  house_type_id_HouseType 5: Áticos  \n",
       "21737                                  0                                  1  \n",
       "21738                                  0                                  0  \n",
       "21739                                  0                                  0  \n",
       "21740                                  0                                  0  \n",
       "21741                                  0                                  0  "
      ]
     },
     "execution_count": 8,
     "metadata": {},
     "output_type": "execute_result"
    }
   ],
   "source": [
    "# Seeing the new database\n",
    "data.tail()"
   ]
  },
  {
   "cell_type": "code",
   "execution_count": 9,
   "id": "eb896545",
   "metadata": {},
   "outputs": [],
   "source": [
    "# Droping na values\n",
    "data.dropna(inplace = True)"
   ]
  },
  {
   "cell_type": "markdown",
   "id": "d1a53a0a",
   "metadata": {},
   "source": [
    "### Saving the processed data"
   ]
  },
  {
   "cell_type": "code",
   "execution_count": 10,
   "id": "63c27188",
   "metadata": {},
   "outputs": [],
   "source": [
    "data.to_csv('data.csv')"
   ]
  }
 ],
 "metadata": {
  "kernelspec": {
   "display_name": "Python 3 (ipykernel)",
   "language": "python",
   "name": "python3"
  },
  "language_info": {
   "codemirror_mode": {
    "name": "ipython",
    "version": 3
   },
   "file_extension": ".py",
   "mimetype": "text/x-python",
   "name": "python",
   "nbconvert_exporter": "python",
   "pygments_lexer": "ipython3",
   "version": "3.9.5"
  }
 },
 "nbformat": 4,
 "nbformat_minor": 5
}
